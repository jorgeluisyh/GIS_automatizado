{
  "nbformat": 4,
  "nbformat_minor": 0,
  "metadata": {
    "colab": {
      "name": "updateServicio_covid_gis.ipynb",
      "provenance": [],
      "collapsed_sections": [],
      "include_colab_link": true
    },
    "kernelspec": {
      "name": "python3",
      "display_name": "Python 3"
    }
  },
  "cells": [
    {
      "cell_type": "markdown",
      "metadata": {
        "id": "view-in-github",
        "colab_type": "text"
      },
      "source": [
        "<a href=\"https://colab.research.google.com/github/jorgeluisyh/GIS_automatizado/blob/master/ArcgisOnline/notebooks/updateServicio_covid_gis.ipynb\" target=\"_parent\"><img src=\"https://colab.research.google.com/assets/colab-badge.svg\" alt=\"Open In Colab\"/></a>"
      ]
    },
    {
      "cell_type": "code",
      "metadata": {
        "id": "ByR9idlbpjam",
        "colab_type": "code",
        "colab": {
          "base_uri": "https://localhost:8080/",
          "height": 268
        },
        "outputId": "103f4aa6-09d3-4737-aadd-592b7b98bb27"
      },
      "source": [
        "import os, requests\n",
        "import json, uuid\n",
        "\n",
        "def consulta_esquema(url):\n",
        "    url = f'{url}/query'\n",
        "    response = requests.post(\n",
        "        url,\n",
        "        data = {\n",
        "        'where': '1=1',\n",
        "        'outFields': \"*\",\n",
        "        # 'returnCountOnly': 'true',\n",
        "        'f': 'pjson'\n",
        "        }\n",
        "    )\n",
        "    res = json.loads(response.text)\n",
        "    pretty =json.dumps(res, indent=4)\n",
        "    return res\n",
        "\n",
        "def actualizar_servicio(url,datos):\n",
        "    url_update = f'{url}/updateFeatures'\n",
        "    #borramos geometría de la actualizacion\n",
        "    for row in datos[\"features\"]:\n",
        "        del row[\"geometry\"]\n",
        "    \n",
        "    res_update = requests.post(\n",
        "        url_update,\n",
        "        data = {\n",
        "        'features': json.dumps(datos[\"features\"]),\n",
        "        # 'returnCountOnly': 'true',\n",
        "        'f': 'pjson'\n",
        "        }\n",
        "    )\n",
        "    resup = json.loads(res_update.text)\n",
        "    print(resup)\n",
        "\n",
        "def actualizar_datos(urlservicio,datosres):\n",
        "    url = f'{urlservicio}/query'\n",
        "    response2 = requests.post(\n",
        "        url,\n",
        "        data = {\n",
        "        'where': '1=1',\n",
        "        'outFields': \"*\",\n",
        "        # 'returnCountOnly': 'true',\n",
        "        'f': 'pjson'\n",
        "        }\n",
        "    )\n",
        "    res2 = json.loads(response2.text)\n",
        "  \n",
        "    for x in range(len(datosres[\"features\"])):\n",
        "        identificador =datosres[\"features\"][x][\"attributes\"][\"Nombre_en\"]\n",
        "\n",
        "        for y in range(len(res2[\"features\"])):\n",
        "            m2 =res2[\"features\"][y][\"attributes\"]\n",
        "            name = m2[\"Country_Region\"]\n",
        "\n",
        "            if name == identificador:\n",
        "                confirmed = m2[\"Confirmed\"]\n",
        "                deaths = m2[\"Deaths\"]\n",
        "                recovered = m2[\"Recovered\"]\n",
        "                active = m2[\"Active\"]\n",
        "\n",
        "                # datosres[\"features\"][x][\"attributes\"][\"Nombre_es\"]    = \"prueba\"\n",
        "\n",
        "                datosres[\"features\"][x][\"attributes\"][\"Sum_Confirmed\"] = str(confirmed)\n",
        "                datosres[\"features\"][x][\"attributes\"][\"Sum_Deaths\"]    = str(deaths)\n",
        "                datosres[\"features\"][x][\"attributes\"][\"Sum_Recovered\"] = str(recovered)\n",
        "                datosres[\"features\"][x][\"attributes\"][\"Sum_Active\"]    = str(active)        \n",
        "                print(name, \":\", value)\n",
        "    \n",
        "    return datosres\n",
        "\n",
        "def main(url_propio,url_datos):\n",
        "    esquema = consulta_esquema(url_propio)\n",
        "    datosactualizados =actualizar_datos(url_datos,esquema)\n",
        "    actualizar_servicio(url_propio,datosactualizados)\n",
        "\n",
        "\n",
        "if __name__ == '__main__':\n",
        "    url_covid = 'https://services1.arcgis.com/0MSEUqKaxRlEPj5g/ArcGIS/rest/services/ncov_cases/FeatureServer/2'\n",
        "    url_propio = 'https://services6.arcgis.com/LLutPLesjvi5h66l/ArcGIS/rest/services/sudamerica_covid_19/FeatureServer/0'\n",
        "    main(url_propio,url_covid)"
      ],
      "execution_count": 55,
      "outputs": [
        {
          "output_type": "stream",
          "text": [
            "Suriname : 504\n",
            "Guyana : 504\n",
            "Ecuador : 504\n",
            "Uruguay : 504\n",
            "Paraguay : 504\n",
            "Venezuela : 504\n",
            "Colombia : 504\n",
            "Chile : 504\n",
            "Bolivia : 504\n",
            "Peru : 504\n",
            "Argentina : 504\n",
            "Brazil : 504\n",
            "{'updateResults': [{'objectId': 1, 'uniqueId': 1, 'globalId': None, 'success': True}, {'objectId': 2, 'uniqueId': 2, 'globalId': None, 'success': True}, {'objectId': 3, 'uniqueId': 3, 'globalId': None, 'success': True}, {'objectId': 4, 'uniqueId': 4, 'globalId': None, 'success': True}, {'objectId': 5, 'uniqueId': 5, 'globalId': None, 'success': True}, {'objectId': 6, 'uniqueId': 6, 'globalId': None, 'success': True}, {'objectId': 7, 'uniqueId': 7, 'globalId': None, 'success': True}, {'objectId': 8, 'uniqueId': 8, 'globalId': None, 'success': True}, {'objectId': 9, 'uniqueId': 9, 'globalId': None, 'success': True}, {'objectId': 10, 'uniqueId': 10, 'globalId': None, 'success': True}, {'objectId': 11, 'uniqueId': 11, 'globalId': None, 'success': True}, {'objectId': 12, 'uniqueId': 12, 'globalId': None, 'success': True}]}\n"
          ],
          "name": "stdout"
        }
      ]
    }
  ]
}